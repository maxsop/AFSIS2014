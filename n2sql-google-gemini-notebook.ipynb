{
  "nbformat": 4,
  "nbformat_minor": 0,
  "metadata": {
    "colab": {
      "provenance": [],
      "collapsed_sections": [
        "J62Ed6jNukYW",
        "YKHL6-D5uoBT",
        "i6Nu9YMGupE_",
        "Hk9ttrymuqs3",
        "SW4mMVLhusW9",
        "CHgH7IzeuuIq",
        "ChHFW26RrnSv",
        "D_x7H1Zarp_c",
        "hqs9W479ryDx"
      ]
    },
    "kernelspec": {
      "name": "python3",
      "display_name": "Python 3"
    },
    "language_info": {
      "name": "python"
    }
  },
  "cells": [
    {
      "cell_type": "markdown",
      "source": [
        "## Natural Language to SQL using Google's Gemini Pro"
      ],
      "metadata": {
        "id": "g1va5YGucMBr"
      }
    },
    {
      "cell_type": "markdown",
      "source": [
        "<a href=\"https://colab.research.google.com/github/bhattbhavesh91/n2sql-google-gemini/blob/main/n2sql-google-gemini-notebook.ipynb\" target=\"_blank\"><img height=\"40\" alt=\"Run your own notebook in Colab\" src = \"https://colab.research.google.com/assets/colab-badge.svg\"></a>"
      ],
      "metadata": {
        "id": "ZpFI4r4VcRsN"
      }
    },
    {
      "cell_type": "markdown",
      "source": [
        "# Installation"
      ],
      "metadata": {
        "id": "J62Ed6jNukYW"
      }
    },
    {
      "cell_type": "code",
      "source": [
        "!pip install -q google-generativeai==0.3.1"
      ],
      "metadata": {
        "id": "CmIAwGt-ko5i",
        "colab": {
          "base_uri": "https://localhost:8080/"
        },
        "outputId": "51c7b465-0915-4d2d-d845-dd0e42b39347"
      },
      "execution_count": 1,
      "outputs": [
        {
          "output_type": "stream",
          "name": "stdout",
          "text": [
            "\u001b[?25l   \u001b[90m━━━━━━━━━━━━━━━━━━━━━━━━━━━━━━━━━━━━━━━━\u001b[0m \u001b[32m0.0/146.6 kB\u001b[0m \u001b[31m?\u001b[0m eta \u001b[36m-:--:--\u001b[0m\r\u001b[2K   \u001b[91m━━━━━━━━━━━━━━━━━━━━━━\u001b[0m\u001b[90m╺\u001b[0m\u001b[90m━━━━━━━━━━━━━━━━━\u001b[0m \u001b[32m81.9/146.6 kB\u001b[0m \u001b[31m2.2 MB/s\u001b[0m eta \u001b[36m0:00:01\u001b[0m\r\u001b[2K   \u001b[90m━━━━━━━━━━━━━━━━━━━━━━━━━━━━━━━━━━━━━━━━\u001b[0m \u001b[32m146.6/146.6 kB\u001b[0m \u001b[31m2.1 MB/s\u001b[0m eta \u001b[36m0:00:00\u001b[0m\n",
            "\u001b[?25h\u001b[?25l   \u001b[90m━━━━━━━━━━━━━━━━━━━━━━━━━━━━━━━━━━━━━━━━\u001b[0m \u001b[32m0.0/598.7 kB\u001b[0m \u001b[31m?\u001b[0m eta \u001b[36m-:--:--\u001b[0m\r\u001b[2K   \u001b[91m━━━━━━━━━━━━━━━━━━━━━━━━━━━━━━━━━━━━━━━\u001b[0m\u001b[91m╸\u001b[0m \u001b[32m593.9/598.7 kB\u001b[0m \u001b[31m22.1 MB/s\u001b[0m eta \u001b[36m0:00:01\u001b[0m\r\u001b[2K   \u001b[90m━━━━━━━━━━━━━━━━━━━━━━━━━━━━━━━━━━━━━━━━\u001b[0m \u001b[32m598.7/598.7 kB\u001b[0m \u001b[31m12.2 MB/s\u001b[0m eta \u001b[36m0:00:00\u001b[0m\n",
            "\u001b[?25h"
          ]
        }
      ]
    },
    {
      "cell_type": "markdown",
      "source": [
        "# Imports"
      ],
      "metadata": {
        "id": "YKHL6-D5uoBT"
      }
    },
    {
      "cell_type": "code",
      "source": [
        "# !pip install --upgrade langchain sqlalchemy langchain_openai"
      ],
      "metadata": {
        "id": "GdUtanZjBzoE"
      },
      "execution_count": 16,
      "outputs": []
    },
    {
      "cell_type": "code",
      "source": [
        "import google.generativeai as genai\n",
        "from pathlib import Path\n",
        "import sqlite3\n",
        "import pandas as pd\n",
        "from langchain_community.agent_toolkits.sql.base import create_sql_agent\n",
        "from langchain_openai import ChatOpenAI\n",
        "from langchain_community.utilities.sql_database import SQLDatabase\n",
        "from langchain_community.agent_toolkits.sql.toolkit import SQLDatabaseToolkit"
      ],
      "metadata": {
        "id": "Ad7x23Khq65P"
      },
      "execution_count": 17,
      "outputs": []
    },
    {
      "cell_type": "markdown",
      "source": [
        "# Convert pandas to sql db"
      ],
      "metadata": {
        "id": "VnxHz2T9isnZ"
      }
    },
    {
      "cell_type": "code",
      "source": [
        "df = pd.read_csv(\"archive.zip\")\n",
        "df.head()"
      ],
      "metadata": {
        "colab": {
          "base_uri": "https://localhost:8080/",
          "height": 602
        },
        "id": "YTXRBtjpi4i2",
        "outputId": "75683955-b7c7-45fa-da48-9743ac1c0dee"
      },
      "execution_count": 99,
      "outputs": [
        {
          "output_type": "execute_result",
          "data": {
            "text/plain": [
              "   index                                                url  \\\n",
              "0      0  https://www.adidas.com/us/beach-shorts/FJ5089....   \n",
              "1      1  https://www.adidas.com/us/five-ten-kestrel-lac...   \n",
              "2      2  https://www.adidas.com/us/mexico-away-jersey/G...   \n",
              "3      3  https://www.adidas.com/us/five-ten-hiangle-pro...   \n",
              "4      4  https://www.adidas.com/us/mesh-broken-stripe-p...   \n",
              "\n",
              "                                              name     sku  selling_price  \\\n",
              "0                                     Beach Shorts  FJ5089             40   \n",
              "1        Five Ten Kestrel Lace Mountain Bike Shoes  BC0770            150   \n",
              "2                               Mexico Away Jersey  GC7946             70   \n",
              "3  Five Ten Hiangle Pro Competition Climbing Shoes  FV4744            160   \n",
              "4                    Mesh Broken-Stripe Polo Shirt  GM0239             65   \n",
              "\n",
              "  original_price currency availability  color  category  ...  \\\n",
              "0            NaN      USD      InStock  Black  Clothing  ...   \n",
              "1            NaN      USD      InStock   Grey     Shoes  ...   \n",
              "2            NaN      USD      InStock  White  Clothing  ...   \n",
              "3            NaN      USD      InStock  Black     Shoes  ...   \n",
              "4            NaN      USD      InStock   Blue  Clothing  ...   \n",
              "\n",
              "           source_website     breadcrumbs  \\\n",
              "0  https://www.adidas.com  Women/Clothing   \n",
              "1  https://www.adidas.com     Women/Shoes   \n",
              "2  https://www.adidas.com   Kids/Clothing   \n",
              "3  https://www.adidas.com  Five Ten/Shoes   \n",
              "4  https://www.adidas.com    Men/Clothing   \n",
              "\n",
              "                                         description   brand  \\\n",
              "0  Splashing in the surf. Making memories with yo...  adidas   \n",
              "1  Lace up and get after it. The Five Ten Kestrel...  adidas   \n",
              "2  Clean and crisp, this adidas Mexico Away Jerse...  adidas   \n",
              "3  The Hiangle Pro takes on the classic shape of ...  adidas   \n",
              "4  Step up to the tee relaxed. This adidas golf p...  adidas   \n",
              "\n",
              "                                              images country language  \\\n",
              "0  https://assets.adidas.com/images/w_600,f_auto,...     USA       en   \n",
              "1  https://assets.adidas.com/images/w_600,f_auto,...     USA       en   \n",
              "2  https://assets.adidas.com/images/w_600,f_auto,...     USA       en   \n",
              "3  https://assets.adidas.com/images/w_600,f_auto,...     USA       en   \n",
              "4  https://assets.adidas.com/images/w_600,f_auto,...     USA       en   \n",
              "\n",
              "  average_rating  reviews_count                  crawled_at  \n",
              "0            4.5             35  2021-10-23 17:50:17.331255  \n",
              "1            4.8              4  2021-10-23 17:50:17.423830  \n",
              "2            4.9             42  2021-10-23 17:50:17.530834  \n",
              "3            3.7              7  2021-10-23 17:50:17.615054  \n",
              "4            4.7             11  2021-10-23 17:50:17.702680  \n",
              "\n",
              "[5 rows x 21 columns]"
            ],
            "text/html": [
              "\n",
              "  <div id=\"df-c7e309e4-5132-46bb-84f2-6075a9ce4a22\" class=\"colab-df-container\">\n",
              "    <div>\n",
              "<style scoped>\n",
              "    .dataframe tbody tr th:only-of-type {\n",
              "        vertical-align: middle;\n",
              "    }\n",
              "\n",
              "    .dataframe tbody tr th {\n",
              "        vertical-align: top;\n",
              "    }\n",
              "\n",
              "    .dataframe thead th {\n",
              "        text-align: right;\n",
              "    }\n",
              "</style>\n",
              "<table border=\"1\" class=\"dataframe\">\n",
              "  <thead>\n",
              "    <tr style=\"text-align: right;\">\n",
              "      <th></th>\n",
              "      <th>index</th>\n",
              "      <th>url</th>\n",
              "      <th>name</th>\n",
              "      <th>sku</th>\n",
              "      <th>selling_price</th>\n",
              "      <th>original_price</th>\n",
              "      <th>currency</th>\n",
              "      <th>availability</th>\n",
              "      <th>color</th>\n",
              "      <th>category</th>\n",
              "      <th>...</th>\n",
              "      <th>source_website</th>\n",
              "      <th>breadcrumbs</th>\n",
              "      <th>description</th>\n",
              "      <th>brand</th>\n",
              "      <th>images</th>\n",
              "      <th>country</th>\n",
              "      <th>language</th>\n",
              "      <th>average_rating</th>\n",
              "      <th>reviews_count</th>\n",
              "      <th>crawled_at</th>\n",
              "    </tr>\n",
              "  </thead>\n",
              "  <tbody>\n",
              "    <tr>\n",
              "      <th>0</th>\n",
              "      <td>0</td>\n",
              "      <td>https://www.adidas.com/us/beach-shorts/FJ5089....</td>\n",
              "      <td>Beach Shorts</td>\n",
              "      <td>FJ5089</td>\n",
              "      <td>40</td>\n",
              "      <td>NaN</td>\n",
              "      <td>USD</td>\n",
              "      <td>InStock</td>\n",
              "      <td>Black</td>\n",
              "      <td>Clothing</td>\n",
              "      <td>...</td>\n",
              "      <td>https://www.adidas.com</td>\n",
              "      <td>Women/Clothing</td>\n",
              "      <td>Splashing in the surf. Making memories with yo...</td>\n",
              "      <td>adidas</td>\n",
              "      <td>https://assets.adidas.com/images/w_600,f_auto,...</td>\n",
              "      <td>USA</td>\n",
              "      <td>en</td>\n",
              "      <td>4.5</td>\n",
              "      <td>35</td>\n",
              "      <td>2021-10-23 17:50:17.331255</td>\n",
              "    </tr>\n",
              "    <tr>\n",
              "      <th>1</th>\n",
              "      <td>1</td>\n",
              "      <td>https://www.adidas.com/us/five-ten-kestrel-lac...</td>\n",
              "      <td>Five Ten Kestrel Lace Mountain Bike Shoes</td>\n",
              "      <td>BC0770</td>\n",
              "      <td>150</td>\n",
              "      <td>NaN</td>\n",
              "      <td>USD</td>\n",
              "      <td>InStock</td>\n",
              "      <td>Grey</td>\n",
              "      <td>Shoes</td>\n",
              "      <td>...</td>\n",
              "      <td>https://www.adidas.com</td>\n",
              "      <td>Women/Shoes</td>\n",
              "      <td>Lace up and get after it. The Five Ten Kestrel...</td>\n",
              "      <td>adidas</td>\n",
              "      <td>https://assets.adidas.com/images/w_600,f_auto,...</td>\n",
              "      <td>USA</td>\n",
              "      <td>en</td>\n",
              "      <td>4.8</td>\n",
              "      <td>4</td>\n",
              "      <td>2021-10-23 17:50:17.423830</td>\n",
              "    </tr>\n",
              "    <tr>\n",
              "      <th>2</th>\n",
              "      <td>2</td>\n",
              "      <td>https://www.adidas.com/us/mexico-away-jersey/G...</td>\n",
              "      <td>Mexico Away Jersey</td>\n",
              "      <td>GC7946</td>\n",
              "      <td>70</td>\n",
              "      <td>NaN</td>\n",
              "      <td>USD</td>\n",
              "      <td>InStock</td>\n",
              "      <td>White</td>\n",
              "      <td>Clothing</td>\n",
              "      <td>...</td>\n",
              "      <td>https://www.adidas.com</td>\n",
              "      <td>Kids/Clothing</td>\n",
              "      <td>Clean and crisp, this adidas Mexico Away Jerse...</td>\n",
              "      <td>adidas</td>\n",
              "      <td>https://assets.adidas.com/images/w_600,f_auto,...</td>\n",
              "      <td>USA</td>\n",
              "      <td>en</td>\n",
              "      <td>4.9</td>\n",
              "      <td>42</td>\n",
              "      <td>2021-10-23 17:50:17.530834</td>\n",
              "    </tr>\n",
              "    <tr>\n",
              "      <th>3</th>\n",
              "      <td>3</td>\n",
              "      <td>https://www.adidas.com/us/five-ten-hiangle-pro...</td>\n",
              "      <td>Five Ten Hiangle Pro Competition Climbing Shoes</td>\n",
              "      <td>FV4744</td>\n",
              "      <td>160</td>\n",
              "      <td>NaN</td>\n",
              "      <td>USD</td>\n",
              "      <td>InStock</td>\n",
              "      <td>Black</td>\n",
              "      <td>Shoes</td>\n",
              "      <td>...</td>\n",
              "      <td>https://www.adidas.com</td>\n",
              "      <td>Five Ten/Shoes</td>\n",
              "      <td>The Hiangle Pro takes on the classic shape of ...</td>\n",
              "      <td>adidas</td>\n",
              "      <td>https://assets.adidas.com/images/w_600,f_auto,...</td>\n",
              "      <td>USA</td>\n",
              "      <td>en</td>\n",
              "      <td>3.7</td>\n",
              "      <td>7</td>\n",
              "      <td>2021-10-23 17:50:17.615054</td>\n",
              "    </tr>\n",
              "    <tr>\n",
              "      <th>4</th>\n",
              "      <td>4</td>\n",
              "      <td>https://www.adidas.com/us/mesh-broken-stripe-p...</td>\n",
              "      <td>Mesh Broken-Stripe Polo Shirt</td>\n",
              "      <td>GM0239</td>\n",
              "      <td>65</td>\n",
              "      <td>NaN</td>\n",
              "      <td>USD</td>\n",
              "      <td>InStock</td>\n",
              "      <td>Blue</td>\n",
              "      <td>Clothing</td>\n",
              "      <td>...</td>\n",
              "      <td>https://www.adidas.com</td>\n",
              "      <td>Men/Clothing</td>\n",
              "      <td>Step up to the tee relaxed. This adidas golf p...</td>\n",
              "      <td>adidas</td>\n",
              "      <td>https://assets.adidas.com/images/w_600,f_auto,...</td>\n",
              "      <td>USA</td>\n",
              "      <td>en</td>\n",
              "      <td>4.7</td>\n",
              "      <td>11</td>\n",
              "      <td>2021-10-23 17:50:17.702680</td>\n",
              "    </tr>\n",
              "  </tbody>\n",
              "</table>\n",
              "<p>5 rows × 21 columns</p>\n",
              "</div>\n",
              "    <div class=\"colab-df-buttons\">\n",
              "\n",
              "  <div class=\"colab-df-container\">\n",
              "    <button class=\"colab-df-convert\" onclick=\"convertToInteractive('df-c7e309e4-5132-46bb-84f2-6075a9ce4a22')\"\n",
              "            title=\"Convert this dataframe to an interactive table.\"\n",
              "            style=\"display:none;\">\n",
              "\n",
              "  <svg xmlns=\"http://www.w3.org/2000/svg\" height=\"24px\" viewBox=\"0 -960 960 960\">\n",
              "    <path d=\"M120-120v-720h720v720H120Zm60-500h600v-160H180v160Zm220 220h160v-160H400v160Zm0 220h160v-160H400v160ZM180-400h160v-160H180v160Zm440 0h160v-160H620v160ZM180-180h160v-160H180v160Zm440 0h160v-160H620v160Z\"/>\n",
              "  </svg>\n",
              "    </button>\n",
              "\n",
              "  <style>\n",
              "    .colab-df-container {\n",
              "      display:flex;\n",
              "      gap: 12px;\n",
              "    }\n",
              "\n",
              "    .colab-df-convert {\n",
              "      background-color: #E8F0FE;\n",
              "      border: none;\n",
              "      border-radius: 50%;\n",
              "      cursor: pointer;\n",
              "      display: none;\n",
              "      fill: #1967D2;\n",
              "      height: 32px;\n",
              "      padding: 0 0 0 0;\n",
              "      width: 32px;\n",
              "    }\n",
              "\n",
              "    .colab-df-convert:hover {\n",
              "      background-color: #E2EBFA;\n",
              "      box-shadow: 0px 1px 2px rgba(60, 64, 67, 0.3), 0px 1px 3px 1px rgba(60, 64, 67, 0.15);\n",
              "      fill: #174EA6;\n",
              "    }\n",
              "\n",
              "    .colab-df-buttons div {\n",
              "      margin-bottom: 4px;\n",
              "    }\n",
              "\n",
              "    [theme=dark] .colab-df-convert {\n",
              "      background-color: #3B4455;\n",
              "      fill: #D2E3FC;\n",
              "    }\n",
              "\n",
              "    [theme=dark] .colab-df-convert:hover {\n",
              "      background-color: #434B5C;\n",
              "      box-shadow: 0px 1px 3px 1px rgba(0, 0, 0, 0.15);\n",
              "      filter: drop-shadow(0px 1px 2px rgba(0, 0, 0, 0.3));\n",
              "      fill: #FFFFFF;\n",
              "    }\n",
              "  </style>\n",
              "\n",
              "    <script>\n",
              "      const buttonEl =\n",
              "        document.querySelector('#df-c7e309e4-5132-46bb-84f2-6075a9ce4a22 button.colab-df-convert');\n",
              "      buttonEl.style.display =\n",
              "        google.colab.kernel.accessAllowed ? 'block' : 'none';\n",
              "\n",
              "      async function convertToInteractive(key) {\n",
              "        const element = document.querySelector('#df-c7e309e4-5132-46bb-84f2-6075a9ce4a22');\n",
              "        const dataTable =\n",
              "          await google.colab.kernel.invokeFunction('convertToInteractive',\n",
              "                                                    [key], {});\n",
              "        if (!dataTable) return;\n",
              "\n",
              "        const docLinkHtml = 'Like what you see? Visit the ' +\n",
              "          '<a target=\"_blank\" href=https://colab.research.google.com/notebooks/data_table.ipynb>data table notebook</a>'\n",
              "          + ' to learn more about interactive tables.';\n",
              "        element.innerHTML = '';\n",
              "        dataTable['output_type'] = 'display_data';\n",
              "        await google.colab.output.renderOutput(dataTable, element);\n",
              "        const docLink = document.createElement('div');\n",
              "        docLink.innerHTML = docLinkHtml;\n",
              "        element.appendChild(docLink);\n",
              "      }\n",
              "    </script>\n",
              "  </div>\n",
              "\n",
              "\n",
              "<div id=\"df-c07b21e5-6429-4192-802e-32e6bf5ded2e\">\n",
              "  <button class=\"colab-df-quickchart\" onclick=\"quickchart('df-c07b21e5-6429-4192-802e-32e6bf5ded2e')\"\n",
              "            title=\"Suggest charts\"\n",
              "            style=\"display:none;\">\n",
              "\n",
              "<svg xmlns=\"http://www.w3.org/2000/svg\" height=\"24px\"viewBox=\"0 0 24 24\"\n",
              "     width=\"24px\">\n",
              "    <g>\n",
              "        <path d=\"M19 3H5c-1.1 0-2 .9-2 2v14c0 1.1.9 2 2 2h14c1.1 0 2-.9 2-2V5c0-1.1-.9-2-2-2zM9 17H7v-7h2v7zm4 0h-2V7h2v10zm4 0h-2v-4h2v4z\"/>\n",
              "    </g>\n",
              "</svg>\n",
              "  </button>\n",
              "\n",
              "<style>\n",
              "  .colab-df-quickchart {\n",
              "      --bg-color: #E8F0FE;\n",
              "      --fill-color: #1967D2;\n",
              "      --hover-bg-color: #E2EBFA;\n",
              "      --hover-fill-color: #174EA6;\n",
              "      --disabled-fill-color: #AAA;\n",
              "      --disabled-bg-color: #DDD;\n",
              "  }\n",
              "\n",
              "  [theme=dark] .colab-df-quickchart {\n",
              "      --bg-color: #3B4455;\n",
              "      --fill-color: #D2E3FC;\n",
              "      --hover-bg-color: #434B5C;\n",
              "      --hover-fill-color: #FFFFFF;\n",
              "      --disabled-bg-color: #3B4455;\n",
              "      --disabled-fill-color: #666;\n",
              "  }\n",
              "\n",
              "  .colab-df-quickchart {\n",
              "    background-color: var(--bg-color);\n",
              "    border: none;\n",
              "    border-radius: 50%;\n",
              "    cursor: pointer;\n",
              "    display: none;\n",
              "    fill: var(--fill-color);\n",
              "    height: 32px;\n",
              "    padding: 0;\n",
              "    width: 32px;\n",
              "  }\n",
              "\n",
              "  .colab-df-quickchart:hover {\n",
              "    background-color: var(--hover-bg-color);\n",
              "    box-shadow: 0 1px 2px rgba(60, 64, 67, 0.3), 0 1px 3px 1px rgba(60, 64, 67, 0.15);\n",
              "    fill: var(--button-hover-fill-color);\n",
              "  }\n",
              "\n",
              "  .colab-df-quickchart-complete:disabled,\n",
              "  .colab-df-quickchart-complete:disabled:hover {\n",
              "    background-color: var(--disabled-bg-color);\n",
              "    fill: var(--disabled-fill-color);\n",
              "    box-shadow: none;\n",
              "  }\n",
              "\n",
              "  .colab-df-spinner {\n",
              "    border: 2px solid var(--fill-color);\n",
              "    border-color: transparent;\n",
              "    border-bottom-color: var(--fill-color);\n",
              "    animation:\n",
              "      spin 1s steps(1) infinite;\n",
              "  }\n",
              "\n",
              "  @keyframes spin {\n",
              "    0% {\n",
              "      border-color: transparent;\n",
              "      border-bottom-color: var(--fill-color);\n",
              "      border-left-color: var(--fill-color);\n",
              "    }\n",
              "    20% {\n",
              "      border-color: transparent;\n",
              "      border-left-color: var(--fill-color);\n",
              "      border-top-color: var(--fill-color);\n",
              "    }\n",
              "    30% {\n",
              "      border-color: transparent;\n",
              "      border-left-color: var(--fill-color);\n",
              "      border-top-color: var(--fill-color);\n",
              "      border-right-color: var(--fill-color);\n",
              "    }\n",
              "    40% {\n",
              "      border-color: transparent;\n",
              "      border-right-color: var(--fill-color);\n",
              "      border-top-color: var(--fill-color);\n",
              "    }\n",
              "    60% {\n",
              "      border-color: transparent;\n",
              "      border-right-color: var(--fill-color);\n",
              "    }\n",
              "    80% {\n",
              "      border-color: transparent;\n",
              "      border-right-color: var(--fill-color);\n",
              "      border-bottom-color: var(--fill-color);\n",
              "    }\n",
              "    90% {\n",
              "      border-color: transparent;\n",
              "      border-bottom-color: var(--fill-color);\n",
              "    }\n",
              "  }\n",
              "</style>\n",
              "\n",
              "  <script>\n",
              "    async function quickchart(key) {\n",
              "      const quickchartButtonEl =\n",
              "        document.querySelector('#' + key + ' button');\n",
              "      quickchartButtonEl.disabled = true;  // To prevent multiple clicks.\n",
              "      quickchartButtonEl.classList.add('colab-df-spinner');\n",
              "      try {\n",
              "        const charts = await google.colab.kernel.invokeFunction(\n",
              "            'suggestCharts', [key], {});\n",
              "      } catch (error) {\n",
              "        console.error('Error during call to suggestCharts:', error);\n",
              "      }\n",
              "      quickchartButtonEl.classList.remove('colab-df-spinner');\n",
              "      quickchartButtonEl.classList.add('colab-df-quickchart-complete');\n",
              "    }\n",
              "    (() => {\n",
              "      let quickchartButtonEl =\n",
              "        document.querySelector('#df-c07b21e5-6429-4192-802e-32e6bf5ded2e button');\n",
              "      quickchartButtonEl.style.display =\n",
              "        google.colab.kernel.accessAllowed ? 'block' : 'none';\n",
              "    })();\n",
              "  </script>\n",
              "</div>\n",
              "\n",
              "    </div>\n",
              "  </div>\n"
            ],
            "application/vnd.google.colaboratory.intrinsic+json": {
              "type": "dataframe",
              "variable_name": "df"
            }
          },
          "metadata": {},
          "execution_count": 99
        }
      ]
    },
    {
      "cell_type": "code",
      "source": [
        "df.shape"
      ],
      "metadata": {
        "colab": {
          "base_uri": "https://localhost:8080/"
        },
        "id": "W-GPK7P7j0eU",
        "outputId": "05f80f3f-4561-4bc7-81f8-937344731260"
      },
      "execution_count": 27,
      "outputs": [
        {
          "output_type": "execute_result",
          "data": {
            "text/plain": [
              "(845, 21)"
            ]
          },
          "metadata": {},
          "execution_count": 27
        }
      ]
    },
    {
      "cell_type": "code",
      "source": [
        "df.columns"
      ],
      "metadata": {
        "colab": {
          "base_uri": "https://localhost:8080/"
        },
        "id": "-pK9rpNlkRoN",
        "outputId": "2fa57f1f-e523-4fab-ba44-34706170cb85"
      },
      "execution_count": 31,
      "outputs": [
        {
          "output_type": "execute_result",
          "data": {
            "text/plain": [
              "Index(['index', 'url', 'name', 'sku', 'selling_price', 'original_price',\n",
              "       'currency', 'availability', 'color', 'category', 'source',\n",
              "       'source_website', 'breadcrumbs', 'description', 'brand', 'images',\n",
              "       'country', 'language', 'average_rating', 'reviews_count', 'crawled_at'],\n",
              "      dtype='object')"
            ]
          },
          "metadata": {},
          "execution_count": 31
        }
      ]
    },
    {
      "cell_type": "code",
      "source": [
        "df_usd = df[(df['currency'] == 'USD') & (df['selling_price'] > 0) & (df['language'] == 'en')]\n",
        "df_usd.shape\n",
        "df.shape"
      ],
      "metadata": {
        "colab": {
          "base_uri": "https://localhost:8080/"
        },
        "id": "LrAjG7YPlIRZ",
        "outputId": "5ec06c51-0881-47aa-ba52-3d558982ac0d"
      },
      "execution_count": 100,
      "outputs": [
        {
          "output_type": "execute_result",
          "data": {
            "text/plain": [
              "(845, 21)"
            ]
          },
          "metadata": {},
          "execution_count": 100
        }
      ]
    },
    {
      "cell_type": "code",
      "source": [
        "df = df.drop(columns=['index','url', 'crawled_at','original_price','images','language','source','source_website','country','currency'], axis=1)"
      ],
      "metadata": {
        "id": "BRL4u1IVk0dY"
      },
      "execution_count": 101,
      "outputs": []
    },
    {
      "cell_type": "code",
      "source": [
        "df.shape"
      ],
      "metadata": {
        "colab": {
          "base_uri": "https://localhost:8080/"
        },
        "id": "yhe-17hAlelE",
        "outputId": "85c9bda6-b1d8-430e-b7a7-8cd80ff1debc"
      },
      "execution_count": 61,
      "outputs": [
        {
          "output_type": "execute_result",
          "data": {
            "text/plain": [
              "(845, 12)"
            ]
          },
          "metadata": {},
          "execution_count": 61
        }
      ]
    },
    {
      "cell_type": "code",
      "source": [
        "# Rename columns\n",
        "df = df.rename(columns={\n",
        "    'name': 'product_name',\n",
        "    'selling_price': 'price',\n",
        "    'brand': 'brand_name',\n",
        "    'description': 'product_desc',\n",
        "    'category': 'category_name',\n",
        "    'sku': 'product_id'\n",
        "})\n",
        "df.columns\n"
      ],
      "metadata": {
        "colab": {
          "base_uri": "https://localhost:8080/"
        },
        "id": "BOS21PqxotPJ",
        "outputId": "602dcc3f-4193-4510-82f9-46fc9a09daa8"
      },
      "execution_count": 102,
      "outputs": [
        {
          "output_type": "execute_result",
          "data": {
            "text/plain": [
              "Index(['product_name', 'product_id', 'price', 'availability', 'color',\n",
              "       'category_name', 'breadcrumbs', 'product_desc', 'brand_name',\n",
              "       'average_rating', 'reviews_count'],\n",
              "      dtype='object')"
            ]
          },
          "metadata": {},
          "execution_count": 102
        }
      ]
    },
    {
      "cell_type": "code",
      "source": [
        "conn = sqlite3.connect('fashion_db.sqlite')\n",
        "c = conn.cursor()\n",
        "\n",
        "c.execute('CREATE TABLE IF NOT EXISTS fashion_products (product_name text, brand_name text, category_name text, price int, average_rating float,\\\n",
        " color text, product_desc text, reviews_count int, availlability text, breadcrumbs text, product_id text)')\n",
        "conn.commit()\n",
        "\n",
        "df.to_sql('fashion_products', conn, if_exists='replace', index = False)\n"
      ],
      "metadata": {
        "colab": {
          "base_uri": "https://localhost:8080/"
        },
        "id": "xBV7iYQOjTLw",
        "outputId": "dca9307f-4810-4374-e34b-44399f13cb52"
      },
      "execution_count": 103,
      "outputs": [
        {
          "output_type": "execute_result",
          "data": {
            "text/plain": [
              "845"
            ]
          },
          "metadata": {},
          "execution_count": 103
        }
      ]
    },
    {
      "cell_type": "code",
      "source": [
        "c.execute('''\n",
        "SELECT product_name FROM fashion_products LIMIT 10\n",
        "          ''')\n",
        "\n",
        "for row in c.fetchall():\n",
        "    print (row)\n",
        "c.close()"
      ],
      "metadata": {
        "colab": {
          "base_uri": "https://localhost:8080/"
        },
        "id": "ud7Tu5yPrBNG",
        "outputId": "965e3860-ec62-47bf-c3a0-6dc48372a3e0"
      },
      "execution_count": 104,
      "outputs": [
        {
          "output_type": "stream",
          "name": "stdout",
          "text": [
            "('Beach Shorts',)\n",
            "('Five Ten Kestrel Lace Mountain Bike Shoes',)\n",
            "('Mexico Away Jersey',)\n",
            "('Five Ten Hiangle Pro Competition Climbing Shoes',)\n",
            "('Mesh Broken-Stripe Polo Shirt',)\n",
            "('EQT Spikeless Golf Shoes',)\n",
            "('Adicross Hybrid Shorts',)\n",
            "('Tiro 21 Windbreaker',)\n",
            "('Classic 3-Stripes Swimsuit',)\n",
            "('Tiro 21 Windbreaker',)\n"
          ]
        }
      ]
    },
    {
      "cell_type": "markdown",
      "source": [
        "# SQL Query Executor"
      ],
      "metadata": {
        "id": "ChHFW26RrnSv"
      }
    },
    {
      "cell_type": "code",
      "source": [
        "def read_sql_query(sql, db):\n",
        "    conn = sqlite3.connect(db)\n",
        "    cur = conn.cursor()\n",
        "    cur.execute(sql)\n",
        "    rows = cur.fetchall()\n",
        "    for row in rows:\n",
        "        print(row)\n",
        "    conn.close()"
      ],
      "metadata": {
        "id": "kkmqIjJw67fn"
      },
      "execution_count": 73,
      "outputs": []
    },
    {
      "cell_type": "code",
      "source": [
        "def get_row_count(db_name):\n",
        "    \"\"\"Generates SQL query to find total number of rows in a database table.\n",
        "\n",
        "    Args:\n",
        "        db_name: Name of the SQLite database file.\n",
        "\n",
        "    Returns:\n",
        "        SQL query as a string.\n",
        "    \"\"\"\n",
        "\n",
        "    return \"SELECT COUNT(*) FROM fashion_products;\"\n",
        "\n"
      ],
      "metadata": {
        "id": "g22Qzft2XTWw"
      },
      "execution_count": 105,
      "outputs": []
    },
    {
      "cell_type": "code",
      "source": [
        "sql_query = get_row_count('fashion_products')\n",
        "sql_query\n",
        "# To execute the query use the read_sql_query function from previous code.\n",
        "read_sql_query(sql_query, 'fashion_db.sqlite')"
      ],
      "metadata": {
        "colab": {
          "base_uri": "https://localhost:8080/"
        },
        "id": "sNPZj5FLX65a",
        "outputId": "3d20ca6b-a1b1-403d-d928-d10190e48e03"
      },
      "execution_count": 106,
      "outputs": [
        {
          "output_type": "stream",
          "name": "stdout",
          "text": [
            "(845,)\n"
          ]
        }
      ]
    },
    {
      "cell_type": "code",
      "source": [
        "read_sql_query('SELECT * FROM fashion_products LIMIT 10;', 'fashion_db.sqlite')"
      ],
      "metadata": {
        "id": "Ll2MVzJj7BFM",
        "colab": {
          "base_uri": "https://localhost:8080/"
        },
        "outputId": "725a6ff1-5f1e-434e-e116-e6c8cf649fa3"
      },
      "execution_count": 107,
      "outputs": [
        {
          "output_type": "stream",
          "name": "stdout",
          "text": [
            "('Beach Shorts', 'FJ5089', 40, 'InStock', 'Black', 'Clothing', 'Women/Clothing', 'Splashing in the surf. Making memories with your friends. Beach days are the best days. These shorts are made of stretchy woven fabric. An elastic waistband that features the adidas logo brings a sporty look to your day at the beach.', 'adidas', 4.5, 35)\n",
            "('Five Ten Kestrel Lace Mountain Bike Shoes', 'BC0770', 150, 'InStock', 'Grey', 'Shoes', 'Women/Shoes', \"Lace up and get after it. The Five Ten Kestrel Lace Mountain Bike Shoes offer efficient pedal power with low-profile style. The wide platform is compatible with all clipless pedals and offers high-friction grip on and off the bike. You'll find the find comfort and versatility for extended trail rides and afterwork hot laps alike.\", 'adidas', 4.8, 4)\n",
            "('Mexico Away Jersey', 'GC7946', 70, 'InStock', 'White', 'Clothing', 'Kids/Clothing', \"Clean and crisp, this adidas Mexico Away Jersey for juniors displays a design that began life in an artist's studio. Soft, quick-drying fabric keeps you comfortable. Standing out on the chest, a team badge lets fans show pride in their soccer team.\", 'adidas', 4.9, 42)\n",
            "('Five Ten Hiangle Pro Competition Climbing Shoes', 'FV4744', 160, 'InStock', 'Black', 'Shoes', 'Five Ten/Shoes', 'The Hiangle Pro takes on the classic shape of the original Hiangle with the addition of a seamless outsole wrapping around the toes, allowing for maximum rubber contact when tackling the most challenging boulder problems.', 'adidas', 3.7, 7)\n",
            "('Mesh Broken-Stripe Polo Shirt', 'GM0239', 65, 'InStock', 'Blue', 'Clothing', 'Men/Clothing', \"Step up to the tee relaxed. This adidas golf polo shirt lets you focus on accurate drives and putts. Four-way stretch matches the body's natural movements. Breathable fabric keeps you comfortable spring, summer and fall. Recycled materials are one step towards reducing plastic waste.\", 'adidas', 4.7, 11)\n",
            "('EQT Spikeless Golf Shoes', 'FX7449', 110, 'InStock', 'Grey', 'Shoes', 'Women/Shoes', \"Put comfort first. These adidas spikeless golf shoes combine a Bounce midsole and a Boost heel for a lightweight, responsive feel that helps you convert bogie's to birdies. They repel water to keep your feet dry through wet fairways. The versatile rubber outsole ensures easy transitions from your final putt to cold drinks at the clubhouse. Recycled materials are one step towards reducing plastic waste.\", 'adidas', 4.9, 30)\n",
            "('Adicross Hybrid Shorts', 'GM5505', 80, 'InStock', 'Black', 'Clothing', 'Men/Clothing', 'On the golf course, comfort is an essential component of keeping your concentration locked in on each shot. Stay focused as the temperature heats up with these ultra-lightweight adidas shorts. Move naturally through your round from the first tee to the 18th green. Then head for the clubhouse feeling ready for whatever comes next.', 'adidas', 4.5, 17)\n",
            "('Tiro 21 Windbreaker', 'GP4975', 60, 'InStock', 'Black', 'Clothing', 'Kids/Clothing', \"You can't always be a force of nature in soccer training. So when the intensity drops and the winds pick up, this juniors' adidas Tiro 21 Windbreaker has you covered. Moisture-absorbing AEROREADY and a mesh lining keep you dry. The streamlined silhouette ensures nothing gets in the way of your ball skills on the touchline.\\r\\n\\r\\nThis product is made with recycled content as part of our ambition to end plastic waste.\", 'adidas', 4.5, 16)\n",
            "('Classic 3-Stripes Swimsuit', 'FS3923', 40, 'InStock', 'Black', 'Clothing', 'Women/Clothing', \"You can show your concern for the health of the oceans while you increase your fitness in the pool. This adidas swimsuit is designed for comfort and support. Soft and fully lined, it's made with yarn spun from recycled materials. Iconic 3-Stripes tape on the sides gives it a sporty and classic look.\", 'adidas', 4.5, 35)\n",
            "('Tiro 21 Windbreaker', 'GP4967', 65, 'InStock', 'Black', 'Clothing', 'Men/Clothing', \"You can't always be a force of nature in soccer training. So when the intensity drops and the breeze picks up, this adidas Tiro 21 Windbreaker has you covered on the sidelines. Moisture-absorbing AEROREADY and a mesh lining help keep you dry while you're sheltering. The streamlined silhouette means you can stay mobile while you're waiting for the gusts to die down.\", 'adidas', 4.8, 66)\n"
          ]
        }
      ]
    },
    {
      "cell_type": "markdown",
      "source": [
        "#Using OpenAI LLM and LangChain Agents"
      ],
      "metadata": {
        "id": "wCFxwg_aE7VS"
      }
    },
    {
      "cell_type": "code",
      "source": [
        "api_key = userdata.get('OPENAI_API_KEY')"
      ],
      "metadata": {
        "id": "_pDiEC9VECdf"
      },
      "execution_count": 27,
      "outputs": []
    },
    {
      "cell_type": "code",
      "source": [
        "agent = create_sql_agent(llm = ChatOpenAI(model = \"gpt-4o-mini\", api_key=api_key),\n",
        "                        agent_type = \"openai-tools\",\n",
        "                        toolkit = SQLDatabaseToolkit(db = SQLDatabase.from_uri(database_uri = \"sqlite:///fashion_db.sqlite\"),\n",
        "                                                     llm = ChatOpenAI(model = \"gpt-4o-mini\", api_key=api_key)))\n"
      ],
      "metadata": {
        "id": "8HMFnQwOI2oh"
      },
      "execution_count": 28,
      "outputs": []
    },
    {
      "cell_type": "code",
      "source": [
        "agent.invoke({\"input\": \"How many rows are in the data?\"})"
      ],
      "metadata": {
        "id": "SQohKwJSJAhr",
        "outputId": "76c30256-5fc4-48b3-e4fa-c4e4de1d8a7c",
        "colab": {
          "base_uri": "https://localhost:8080/"
        }
      },
      "execution_count": 29,
      "outputs": [
        {
          "output_type": "execute_result",
          "data": {
            "text/plain": [
              "{'input': 'How many rows are in the data?',\n",
              " 'output': 'There are 845 rows in the \"fashion_products\" table.'}"
            ]
          },
          "metadata": {},
          "execution_count": 29
        }
      ]
    },
    {
      "cell_type": "code",
      "source": [
        "agent.invoke({\"input\": \"How many products of Nike are there?\"})"
      ],
      "metadata": {
        "id": "lj52wpkHDfoY",
        "outputId": "6edd5322-a218-45c2-aac6-77e61202445b",
        "colab": {
          "base_uri": "https://localhost:8080/"
        }
      },
      "execution_count": 30,
      "outputs": [
        {
          "output_type": "execute_result",
          "data": {
            "text/plain": [
              "{'input': 'How many products of Nike are there?',\n",
              " 'output': 'There are no products of Nike in the database.'}"
            ]
          },
          "metadata": {},
          "execution_count": 30
        }
      ]
    },
    {
      "cell_type": "code",
      "source": [
        "agent.invoke({'input': 'What is the product id and product name of the most expensive product in the database?'})"
      ],
      "metadata": {
        "id": "TcXa_gMxDfk2",
        "outputId": "879a4e91-b6fe-48e2-a544-d06f9bc5e0d8",
        "colab": {
          "base_uri": "https://localhost:8080/"
        }
      },
      "execution_count": 31,
      "outputs": [
        {
          "output_type": "execute_result",
          "data": {
            "text/plain": [
              "{'input': 'What is the product id and product name of the most expensive product in the database?',\n",
              " 'output': 'The most expensive product in the database is the \"Terrex Primeknit Rain.RDY Jacket\" with the product ID \"GI7309\".'}"
            ]
          },
          "metadata": {},
          "execution_count": 31
        }
      ]
    },
    {
      "cell_type": "code",
      "source": [
        "def most_expensive_product(db_name):\n",
        "    conn = sqlite3.connect(db_name)\n",
        "    c = conn.cursor()\n",
        "    c.execute('''\n",
        "    SELECT product_id, product_name FROM fashion_products ORDER BY price DESC LIMIT 1;\n",
        "    ''')\n",
        "    result = c.fetchone()\n",
        "    conn.close()\n",
        "    return result\n",
        "\n",
        "most_expensive_product('fashion_db.sqlite')\n"
      ],
      "metadata": {
        "id": "x39vMIT_Dfhc",
        "outputId": "932cd38e-e6d6-4347-9207-59d49fb7b3bd",
        "colab": {
          "base_uri": "https://localhost:8080/"
        }
      },
      "execution_count": 32,
      "outputs": [
        {
          "output_type": "execute_result",
          "data": {
            "text/plain": [
              "('GI7309', 'Terrex Primeknit Rain.RDY Jacket')"
            ]
          },
          "metadata": {},
          "execution_count": 32
        }
      ]
    },
    {
      "cell_type": "code",
      "source": [],
      "metadata": {
        "id": "0uBTk685Dfd0"
      },
      "execution_count": null,
      "outputs": []
    },
    {
      "cell_type": "code",
      "source": [],
      "metadata": {
        "id": "dJSCgJU5DfaH"
      },
      "execution_count": null,
      "outputs": []
    },
    {
      "cell_type": "code",
      "source": [],
      "metadata": {
        "id": "C0PCFMS2DfDA"
      },
      "execution_count": null,
      "outputs": []
    },
    {
      "cell_type": "markdown",
      "source": [
        "#Using Google Gemini LLM"
      ],
      "metadata": {
        "id": "xrAew8gBFO3V"
      }
    },
    {
      "cell_type": "code",
      "source": [
        "from google.colab import userdata\n",
        "genai.configure(api_key = userdata.get('GEMINI_KEY'))"
      ],
      "metadata": {
        "id": "-vFrm5jOHT7X"
      },
      "execution_count": null,
      "outputs": []
    },
    {
      "cell_type": "code",
      "source": [
        "genai.__version__"
      ],
      "metadata": {
        "id": "nyOzzYI0Hc38"
      },
      "execution_count": null,
      "outputs": []
    },
    {
      "cell_type": "code",
      "source": [
        "# Set up the model\n",
        "generation_config = {\n",
        "  \"temperature\": 0.4,\n",
        "  \"top_p\": 1,\n",
        "  \"top_k\": 32,\n",
        "  \"max_output_tokens\": 4096,\n",
        "}\n",
        "\n",
        "safety_settings = [\n",
        "  {\n",
        "    \"category\": \"HARM_CATEGORY_HARASSMENT\",\n",
        "    \"threshold\": \"BLOCK_MEDIUM_AND_ABOVE\"\n",
        "  },\n",
        "  {\n",
        "    \"category\": \"HARM_CATEGORY_HATE_SPEECH\",\n",
        "    \"threshold\": \"BLOCK_MEDIUM_AND_ABOVE\"\n",
        "  },\n",
        "  {\n",
        "    \"category\": \"HARM_CATEGORY_SEXUALLY_EXPLICIT\",\n",
        "    \"threshold\": \"BLOCK_MEDIUM_AND_ABOVE\"\n",
        "  },\n",
        "  {\n",
        "    \"category\": \"HARM_CATEGORY_DANGEROUS_CONTENT\",\n",
        "    \"threshold\": \"BLOCK_MEDIUM_AND_ABOVE\"\n",
        "  }\n",
        "]"
      ],
      "metadata": {
        "id": "38e9nTZFHqvE"
      },
      "execution_count": null,
      "outputs": []
    },
    {
      "cell_type": "code",
      "source": [
        "model = genai.GenerativeModel(model_name = \"gemini-pro\",\n",
        "                              generation_config = generation_config,\n",
        "                              safety_settings = safety_settings)"
      ],
      "metadata": {
        "id": "pDFKqEkJHzjk"
      },
      "execution_count": null,
      "outputs": []
    },
    {
      "cell_type": "markdown",
      "source": [
        "# Define Prompt"
      ],
      "metadata": {
        "id": "D_x7H1Zarp_c"
      }
    },
    {
      "cell_type": "code",
      "source": [
        "df.columns"
      ],
      "metadata": {
        "id": "LqpoXb9wtFWW",
        "outputId": "0281a3d4-1d74-420e-a5d9-35a24d606e75",
        "colab": {
          "base_uri": "https://localhost:8080/"
        }
      },
      "execution_count": 90,
      "outputs": [
        {
          "output_type": "execute_result",
          "data": {
            "text/plain": [
              "Index(['product_name', 'product_id', 'price', 'availability', 'color',\n",
              "       'category_name', 'breadcrumbs', 'product_desc', 'brand_name',\n",
              "       'average_rating', 'reviews_count'],\n",
              "      dtype='object')"
            ]
          },
          "metadata": {},
          "execution_count": 90
        }
      ]
    },
    {
      "cell_type": "code",
      "source": [
        "prompt_parts_1 = [\n",
        "  \"You are an expert in converting English questions to SQL code! The SQL database has the name fashion_products and has the following columns - product_id, product_name, brand_name, category_name, price, color, product_desc, average_rating, review_counts, breadcrumbs, and availability.\\n\\nFor example,\\nExample 1 - How many entries of Adidas are present?, the SQL command will be something like this\\n``` SELECT COUNT(*) FROM fashion_products WHERE brand = 'Adidas';\\n```\\n\\nExample 2 - How many XL products of Nike are there that have a rating of more than 4?\\n```\\nSELECT COUNT(*) FROM fashion_products WHERE brand = 'Nike' AND size = 'XL' AND \\\"Rating\\\" > 4;\\n```\\n\\nExample 3 - \\n```\\nSELECT product_name FROM fashion_products WHERE price = (SELECT MAX(price) FROM fashion_products);\\n```\\n\\nDont include ``` and \\\\n in the output\",\n",
        "]"
      ],
      "metadata": {
        "id": "9HCW5Rem67k2"
      },
      "execution_count": 91,
      "outputs": []
    },
    {
      "cell_type": "code",
      "source": [
        "question = \"Tell me the id of the most expensive T-shirt?\""
      ],
      "metadata": {
        "id": "5EL8iH2m7HT5"
      },
      "execution_count": 108,
      "outputs": []
    },
    {
      "cell_type": "code",
      "source": [
        "prompt_parts = [prompt_parts_1[0], question]\n",
        "response = model.generate_content(prompt_parts)\n",
        "response.text"
      ],
      "metadata": {
        "id": "LjHWGGZo7HWl",
        "colab": {
          "base_uri": "https://localhost:8080/",
          "height": 35
        },
        "outputId": "a8a89622-db8c-4dde-f21a-0797712f899d"
      },
      "execution_count": 109,
      "outputs": [
        {
          "output_type": "execute_result",
          "data": {
            "text/plain": [
              "\"```SELECT product_id FROM fashion_products WHERE product_name LIKE '%T-shirt%' AND price = (SELECT MAX(price) FROM fashion_products);```\""
            ],
            "application/vnd.google.colaboratory.intrinsic+json": {
              "type": "string"
            }
          },
          "metadata": {},
          "execution_count": 109
        }
      ]
    },
    {
      "cell_type": "code",
      "source": [
        "read_sql_query('SELECT product_id FROM fashion_products WHERE product_name LIKE \"%T-shirt%\" AND price = (SELECT MAX(price) FROM fashion_products);',\n",
        "               \"fashion_db.sqlite\")"
      ],
      "metadata": {
        "id": "7Z3soRRD7inu"
      },
      "execution_count": 111,
      "outputs": []
    },
    {
      "cell_type": "markdown",
      "source": [
        "# Combine it into Function"
      ],
      "metadata": {
        "id": "hqs9W479ryDx"
      }
    },
    {
      "cell_type": "code",
      "source": [
        "def generate_gemini_response(question, input_prompt):\n",
        "    prompt_parts = [input_prompt, question]\n",
        "    response = model.generate_content(prompt_parts)\n",
        "    output = read_sql_query(response.text, \"fashion_db.sqlite\")\n",
        "    return output"
      ],
      "metadata": {
        "id": "HilHC9fx7x53"
      },
      "execution_count": 112,
      "outputs": []
    },
    {
      "cell_type": "code",
      "source": [
        "generate_gemini_response(\"How many products of Nike are there?\",\n",
        "                         prompt_parts_1[0])"
      ],
      "metadata": {
        "id": "RvIpKa3G8Hln",
        "colab": {
          "base_uri": "https://localhost:8080/",
          "height": 34
        },
        "outputId": "36f93bef-0127-40a0-9553-39699de90950"
      },
      "execution_count": 115,
      "outputs": [
        {
          "output_type": "stream",
          "name": "stdout",
          "text": [
            "(0,)\n"
          ]
        }
      ]
    },
    {
      "cell_type": "code",
      "source": [],
      "metadata": {
        "id": "9TRzDLNF8lyl"
      },
      "execution_count": null,
      "outputs": []
    },
    {
      "cell_type": "code",
      "source": [],
      "metadata": {
        "id": "khc_6v2G8l1b"
      },
      "execution_count": null,
      "outputs": []
    },
    {
      "cell_type": "code",
      "source": [],
      "metadata": {
        "id": "8pcZiMsx1tUM"
      },
      "execution_count": null,
      "outputs": []
    }
  ]
}